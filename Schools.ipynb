{
 "cells": [
  {
   "cell_type": "markdown",
   "metadata": {},
   "source": [
    "# Analyzing NYC High School Data"
   ]
  },
  {
   "cell_type": "markdown",
   "metadata": {},
   "source": [
    "In this project we will explore the efficiency and dependencies of a Scholastic Aptitude Test for school of New York City. For that purpose we will use next data sources.\n",
    "\n",
    "* ap_2010.csv - Data on AP test results\n",
    "* class_size.csv - Data on class size\n",
    "* demographics.csv - Data on demographics\n",
    "* graduation.csv - Data on graduation outcomes\n",
    "* hs_directory.csv - A directory of high schools\n",
    "* sat_results.csv - Data on SAT scores\n",
    "* survey_all.txt - Data on surveys from all schools\n",
    "* survey_d75.txt - Data on surveys from New York City district 75\n",
    "\n",
    "We will read them, combine in one dataset, clean empty and wrong data from it and then research it.  "
   ]
  },
  {
   "cell_type": "markdown",
   "metadata": {},
   "source": [
    "# Read in the data"
   ]
  },
  {
   "cell_type": "code",
   "execution_count": 2,
   "metadata": {},
   "outputs": [],
   "source": [
    "import pandas as pd\n",
    "import numpy\n",
    "import re\n",
    "\n",
    "pd.set_option('display.max_rows', 500)\n",
    "pd.set_option('display.max_columns', 500)\n",
    "pd.set_option('display.width', 1000)\n",
    "\n",
    "data_files = [\n",
    "    \"ap_2010.csv\",\n",
    "    \"class_size.csv\",\n",
    "    \"demographics.csv\",\n",
    "    \"graduation.csv\",\n",
    "    \"hs_directory.csv\",\n",
    "    \"sat_results.csv\"\n",
    "]\n",
    "\n",
    "data = {}\n",
    "\n",
    "for f in data_files:\n",
    "    d = pd.read_csv(\"schools/{0}\".format(f))\n",
    "    data[f.replace(\".csv\", \"\")] = d\n",
    "    \n"
   ]
  },
  {
   "cell_type": "markdown",
   "metadata": {},
   "source": [
    "# Read in the surveys"
   ]
  },
  {
   "cell_type": "code",
   "execution_count": 3,
   "metadata": {},
   "outputs": [],
   "source": [
    "all_survey = pd.read_csv(\"schools/survey_all.txt\", delimiter=\"\\t\", encoding='windows-1252')\n",
    "d75_survey = pd.read_csv(\"schools/survey_d75.txt\", delimiter=\"\\t\", encoding='windows-1252')\n",
    "survey = pd.concat([all_survey, d75_survey], axis=0, sort=True)\n",
    "\n",
    "survey[\"DBN\"] = survey[\"dbn\"]\n",
    "\n",
    "survey_fields = [\n",
    "    \"DBN\", \n",
    "    \"rr_s\", \n",
    "    \"rr_t\", \n",
    "    \"rr_p\", \n",
    "    \"N_s\", \n",
    "    \"N_t\", \n",
    "    \"N_p\", \n",
    "    \"saf_p_11\", \n",
    "    \"com_p_11\", \n",
    "    \"eng_p_11\", \n",
    "    \"aca_p_11\", \n",
    "    \"saf_t_11\", \n",
    "    \"com_t_11\", \n",
    "    \"eng_t_11\", \n",
    "    \"aca_t_11\", \n",
    "    \"saf_s_11\", \n",
    "    \"com_s_11\", \n",
    "    \"eng_s_11\", \n",
    "    \"aca_s_11\", \n",
    "    \"saf_tot_11\", \n",
    "    \"com_tot_11\", \n",
    "    \"eng_tot_11\", \n",
    "    \"aca_tot_11\",\n",
    "]\n",
    "survey = survey.loc[:,survey_fields]\n",
    "data[\"survey\"] = survey"
   ]
  },
  {
   "cell_type": "markdown",
   "metadata": {},
   "source": [
    "# Add DBN columns"
   ]
  },
  {
   "cell_type": "code",
   "execution_count": 4,
   "metadata": {},
   "outputs": [],
   "source": [
    "data[\"hs_directory\"][\"DBN\"] = data[\"hs_directory\"][\"dbn\"]\n",
    "\n",
    "def pad_csd(num):\n",
    "    string_representation = str(num)\n",
    "    if len(string_representation) > 1:\n",
    "        return string_representation\n",
    "    else:\n",
    "        return \"0\" + string_representation\n",
    "    \n",
    "data[\"class_size\"][\"padded_csd\"] = data[\"class_size\"][\"CSD\"].apply(pad_csd)\n",
    "data[\"class_size\"][\"DBN\"] = data[\"class_size\"][\"padded_csd\"] + data[\"class_size\"][\"SCHOOL CODE\"]"
   ]
  },
  {
   "cell_type": "markdown",
   "metadata": {},
   "source": [
    "# Convert columns to numeric"
   ]
  },
  {
   "cell_type": "code",
   "execution_count": 5,
   "metadata": {},
   "outputs": [],
   "source": [
    "cols = ['SAT Math Avg. Score', 'SAT Critical Reading Avg. Score', 'SAT Writing Avg. Score']\n",
    "for c in cols:\n",
    "    data[\"sat_results\"][c] = pd.to_numeric(data[\"sat_results\"][c], errors=\"coerce\")\n",
    "\n",
    "data['sat_results']['sat_score'] = data['sat_results'][cols[0]] + data['sat_results'][cols[1]] + data['sat_results'][cols[2]]\n",
    "\n",
    "def find_lat(loc):\n",
    "    coords = re.findall(\"\\(.+, .+\\)\", loc)\n",
    "    lat = coords[0].split(\",\")[0].replace(\"(\", \"\")\n",
    "    return lat\n",
    "\n",
    "def find_lon(loc):\n",
    "    coords = re.findall(\"\\(.+, .+\\)\", loc)\n",
    "    lon = coords[0].split(\",\")[1].replace(\")\", \"\").strip()\n",
    "    return lon\n",
    "\n",
    "data[\"hs_directory\"][\"lat\"] = data[\"hs_directory\"][\"Location 1\"].apply(find_lat)\n",
    "data[\"hs_directory\"][\"lon\"] = data[\"hs_directory\"][\"Location 1\"].apply(find_lon)\n",
    "\n",
    "data[\"hs_directory\"][\"lat\"] = pd.to_numeric(data[\"hs_directory\"][\"lat\"], errors=\"coerce\")\n",
    "data[\"hs_directory\"][\"lon\"] = pd.to_numeric(data[\"hs_directory\"][\"lon\"], errors=\"coerce\")"
   ]
  },
  {
   "cell_type": "markdown",
   "metadata": {},
   "source": [
    "# Condense datasets"
   ]
  },
  {
   "cell_type": "code",
   "execution_count": 6,
   "metadata": {},
   "outputs": [],
   "source": [
    "class_size = data[\"class_size\"]\n",
    "class_size = class_size[class_size[\"GRADE \"] == \"09-12\"]\n",
    "class_size = class_size[class_size[\"PROGRAM TYPE\"] == \"GEN ED\"]\n",
    "\n",
    "class_size = class_size.groupby(\"DBN\").agg(numpy.mean)\n",
    "class_size.reset_index(inplace=True)\n",
    "data[\"class_size\"] = class_size\n",
    "\n",
    "data[\"demographics\"] = data[\"demographics\"][data[\"demographics\"][\"schoolyear\"] == 20112012]\n",
    "\n",
    "data[\"graduation\"] = data[\"graduation\"][data[\"graduation\"][\"Cohort\"] == \"2006\"]\n",
    "data[\"graduation\"] = data[\"graduation\"][data[\"graduation\"][\"Demographic\"] == \"Total Cohort\"]"
   ]
  },
  {
   "cell_type": "markdown",
   "metadata": {},
   "source": [
    "# Convert AP scores to numeric"
   ]
  },
  {
   "cell_type": "code",
   "execution_count": 7,
   "metadata": {},
   "outputs": [],
   "source": [
    "cols = ['AP Test Takers ', 'Total Exams Taken', 'Number of Exams with scores 3 4 or 5']\n",
    "\n",
    "for col in cols:\n",
    "    data[\"ap_2010\"][col] = pd.to_numeric(data[\"ap_2010\"][col], errors=\"coerce\")"
   ]
  },
  {
   "cell_type": "markdown",
   "metadata": {},
   "source": [
    "# Combine the datasets"
   ]
  },
  {
   "cell_type": "code",
   "execution_count": 8,
   "metadata": {},
   "outputs": [],
   "source": [
    "combined = data[\"sat_results\"]\n",
    "\n",
    "combined = combined.merge(data[\"ap_2010\"], on=\"DBN\", how=\"left\")\n",
    "combined = combined.merge(data[\"graduation\"], on=\"DBN\", how=\"left\")\n",
    "\n",
    "to_merge = [\"class_size\", \"demographics\", \"survey\", \"hs_directory\"]\n",
    "\n",
    "for m in to_merge:\n",
    "    combined = combined.merge(data[m], on=\"DBN\", how=\"inner\")\n",
    "\n",
    "combined = combined.fillna(combined.mean())\n",
    "combined = combined.fillna(0)"
   ]
  },
  {
   "cell_type": "markdown",
   "metadata": {},
   "source": [
    "# Add a school district column for mapping"
   ]
  },
  {
   "cell_type": "code",
   "execution_count": 9,
   "metadata": {},
   "outputs": [],
   "source": [
    "def get_first_two_chars(dbn):\n",
    "    return dbn[0:2]\n",
    "\n",
    "combined[\"school_dist\"] = combined[\"DBN\"].apply(get_first_two_chars)"
   ]
  },
  {
   "cell_type": "markdown",
   "metadata": {},
   "source": [
    "# Find correlations"
   ]
  },
  {
   "cell_type": "code",
   "execution_count": 10,
   "metadata": {
    "scrolled": true
   },
   "outputs": [],
   "source": [
    "correlations = combined.corr()\n",
    "correlations = correlations[\"sat_score\"].sort_values(ascending=False)"
   ]
  },
  {
   "cell_type": "markdown",
   "metadata": {},
   "source": [
    "# Plotting survey correlations"
   ]
  },
  {
   "cell_type": "code",
   "execution_count": 11,
   "metadata": {},
   "outputs": [],
   "source": [
    "# Remove DBN since it's a unique identifier, not a useful numerical value for correlation.\n",
    "survey_fields.remove(\"DBN\")"
   ]
  },
  {
   "cell_type": "markdown",
   "metadata": {},
   "source": [
    "# Correlation between SAT score and survey results"
   ]
  },
  {
   "cell_type": "code",
   "execution_count": 13,
   "metadata": {
    "scrolled": false
   },
   "outputs": [],
   "source": [
    "import matplotlib as plt\n",
    "survey_correlations = correlations.loc[survey_fields]"
   ]
  },
  {
   "cell_type": "code",
   "execution_count": 72,
   "metadata": {
    "scrolled": false
   },
   "outputs": [
    {
     "data": {
      "text/plain": [
       "<matplotlib.axes._subplots.AxesSubplot at 0x7f909aabb208>"
      ]
     },
     "execution_count": 72,
     "metadata": {},
     "output_type": "execute_result"
    },
    {
     "data": {
      "image/png": "[encoded data removed]",
      "text/plain": [
       "<Figure size 1440x720 with 1 Axes>"
      ]
     },
     "metadata": {
      "needs_background": "light"
     },
     "output_type": "display_data"
    }
   ],
   "source": [
    "survey_correlations.plot(x=survey_correlations.values, y=survey_correlations.index, kind='bar', figsize=(20, 10), title='Correlation between SAT score and students/teachers/parents responses')"
   ]
  },
  {
   "cell_type": "markdown",
   "metadata": {},
   "source": [
    "At first we see the strong correlation between SAT score (sat_score) and number of respondents (rr_s, rr_t, rr_p). Big number of respondents is correlated with total enrollment so that values should be high.\n",
    "\n",
    "It is more interesting that rr_s, the student response rate, or rr_p, the percentage of students that completed the survey, correlates with SAT score. This might make sense because students who are more likely to fill out surveys may be more likely to also be doing well academically.\n",
    "\n",
    "Then we see Safety and Respect score based on teacher and student responses (saf_t_11, saf_s_11). It's obvious result, because high level of safety and respect helps teachers to teach their students more effectively and students acquire knowledge more easily.  \n",
    "\n",
    "Next interesting correlation is the Academic Expectations student score (aca_s_11), which indicates how the student perceives academic standards, correlates with SAT score, but this is not true for Academic Expectations teacher score (aca_t_11) or Academic Expectations parent score (aca_t_11).\n",
    "\n",
    "There is also strong correlation between SAT and student engagement scores (eng_s_11). This makes sense, because well conducted school engagements let students to study more effectively. \n",
    "\n",
    "Last interesting correlation is student communication score (com_s_11). Apperently if students can easely communicate with another students and discuss or ask questions about educational material, it helps them to learn."
   ]
  },
  {
   "cell_type": "markdown",
   "metadata": {},
   "source": [
    "Let's dig into relationship between SAT score and safety scores (saf_t_11, saf_s_11)."
   ]
  },
  {
   "cell_type": "code",
   "execution_count": 73,
   "metadata": {
    "scrolled": false
   },
   "outputs": [
    {
     "data": {
      "text/plain": [
       "<matplotlib.axes._subplots.AxesSubplot at 0x7f909aabb7f0>"
      ]
     },
     "execution_count": 73,
     "metadata": {},
     "output_type": "execute_result"
    },
    {
     "data": {
      "image/png": "[encoded data removed]",
      "text/plain": [
       "<Figure size 504x360 with 1 Axes>"
      ]
     },
     "metadata": {
      "needs_background": "light"
     },
     "output_type": "display_data"
    }
   ],
   "source": [
    "combined.plot(x='saf_s_11', y='sat_score', kind='scatter', figsize=(7, 5), title='Relation between SAT score and students safety score')"
   ]
  },
  {
   "cell_type": "code",
   "execution_count": 74,
   "metadata": {
    "scrolled": false
   },
   "outputs": [
    {
     "data": {
      "text/plain": [
       "<matplotlib.axes._subplots.AxesSubplot at 0x7f909a8bf5c0>"
      ]
     },
     "execution_count": 74,
     "metadata": {},
     "output_type": "execute_result"
    },
    {
     "data": {
      "image/png": "[encoded data removed]",
      "text/plain": [
       "<Figure size 504x360 with 1 Axes>"
      ]
     },
     "metadata": {
      "needs_background": "light"
     },
     "output_type": "display_data"
    }
   ],
   "source": [
    "combined.plot(x='saf_t_11', y='sat_score', kind='scatter', figsize=(7, 5), title='Relation between SAT score and students safety score')"
   ]
  },
  {
   "cell_type": "markdown",
   "metadata": {},
   "source": [
    "On both plots, which resemble relation between SAT score and safety scores for students and teacher we can clearly see a trend line which is directed from field with low SAT score and low safety score to field with high SAT score and high safety. It confirms our theory about direct connection between high SAT score and safety level at school."
   ]
  },
  {
   "cell_type": "markdown",
   "metadata": {},
   "source": [
    "# Safety of districts and boroughs"
   ]
  },
  {
   "cell_type": "markdown",
   "metadata": {},
   "source": [
    "We group dataset by districts and boroughs, compute average safety rating for them and visualize difference between them."
   ]
  },
  {
   "cell_type": "code",
   "execution_count": 17,
   "metadata": {
    "scrolled": true
   },
   "outputs": [
    {
     "data": {
      "text/html": [
       "<div>\n",
       "<style scoped>\n",
       "    .dataframe tbody tr th:only-of-type {\n",
       "        vertical-align: middle;\n",
       "    }\n",
       "\n",
       "    .dataframe tbody tr th {\n",
       "        vertical-align: top;\n",
       "    }\n",
       "\n",
       "    .dataframe thead th {\n",
       "        text-align: right;\n",
       "    }\n",
       "</style>\n",
       "<table border=\"1\" class=\"dataframe\">\n",
       "  <thead>\n",
       "    <tr style=\"text-align: right;\">\n",
       "      <th></th>\n",
       "      <th>school_dist</th>\n",
       "      <th>SAT Critical Reading Avg. Score</th>\n",
       "      <th>SAT Math Avg. Score</th>\n",
       "      <th>SAT Writing Avg. Score</th>\n",
       "      <th>sat_score</th>\n",
       "      <th>AP Test Takers</th>\n",
       "      <th>Total Exams Taken</th>\n",
       "      <th>Number of Exams with scores 3 4 or 5</th>\n",
       "      <th>Total Cohort</th>\n",
       "      <th>CSD</th>\n",
       "      <th>NUMBER OF STUDENTS / SEATS FILLED</th>\n",
       "      <th>NUMBER OF SECTIONS</th>\n",
       "      <th>AVERAGE CLASS SIZE</th>\n",
       "      <th>SIZE OF SMALLEST CLASS</th>\n",
       "      <th>SIZE OF LARGEST CLASS</th>\n",
       "      <th>SCHOOLWIDE PUPIL-TEACHER RATIO</th>\n",
       "      <th>schoolyear</th>\n",
       "      <th>fl_percent</th>\n",
       "      <th>frl_percent</th>\n",
       "      <th>total_enrollment</th>\n",
       "      <th>ell_num</th>\n",
       "      <th>ell_percent</th>\n",
       "      <th>sped_num</th>\n",
       "      <th>sped_percent</th>\n",
       "      <th>asian_num</th>\n",
       "      <th>asian_per</th>\n",
       "      <th>black_num</th>\n",
       "      <th>black_per</th>\n",
       "      <th>hispanic_num</th>\n",
       "      <th>hispanic_per</th>\n",
       "      <th>white_num</th>\n",
       "      <th>white_per</th>\n",
       "      <th>male_num</th>\n",
       "      <th>male_per</th>\n",
       "      <th>female_num</th>\n",
       "      <th>female_per</th>\n",
       "      <th>rr_s</th>\n",
       "      <th>rr_t</th>\n",
       "      <th>rr_p</th>\n",
       "      <th>N_s</th>\n",
       "      <th>N_t</th>\n",
       "      <th>N_p</th>\n",
       "      <th>saf_p_11</th>\n",
       "      <th>com_p_11</th>\n",
       "      <th>eng_p_11</th>\n",
       "      <th>aca_p_11</th>\n",
       "      <th>saf_t_11</th>\n",
       "      <th>com_t_11</th>\n",
       "      <th>eng_t_11</th>\n",
       "      <th>aca_t_11</th>\n",
       "      <th>saf_s_11</th>\n",
       "      <th>com_s_11</th>\n",
       "      <th>eng_s_11</th>\n",
       "      <th>aca_s_11</th>\n",
       "      <th>saf_tot_11</th>\n",
       "      <th>com_tot_11</th>\n",
       "      <th>eng_tot_11</th>\n",
       "      <th>aca_tot_11</th>\n",
       "      <th>grade_span_max</th>\n",
       "      <th>expgrade_span_max</th>\n",
       "      <th>zip</th>\n",
       "      <th>total_students</th>\n",
       "      <th>number_programs</th>\n",
       "      <th>priority08</th>\n",
       "      <th>priority09</th>\n",
       "      <th>priority10</th>\n",
       "      <th>lat</th>\n",
       "      <th>lon</th>\n",
       "    </tr>\n",
       "  </thead>\n",
       "  <tbody>\n",
       "    <tr>\n",
       "      <th>0</th>\n",
       "      <td>01</td>\n",
       "      <td>441.833333</td>\n",
       "      <td>473.333333</td>\n",
       "      <td>439.333333</td>\n",
       "      <td>1354.500000</td>\n",
       "      <td>116.681090</td>\n",
       "      <td>173.019231</td>\n",
       "      <td>135.800000</td>\n",
       "      <td>93.500000</td>\n",
       "      <td>1.0</td>\n",
       "      <td>115.244241</td>\n",
       "      <td>5.148538</td>\n",
       "      <td>22.675415</td>\n",
       "      <td>18.798392</td>\n",
       "      <td>26.553044</td>\n",
       "      <td>0.0</td>\n",
       "      <td>20112012.0</td>\n",
       "      <td>0.0</td>\n",
       "      <td>58.983333</td>\n",
       "      <td>668.500000</td>\n",
       "      <td>42.166667</td>\n",
       "      <td>10.000000</td>\n",
       "      <td>82.000000</td>\n",
       "      <td>17.083333</td>\n",
       "      <td>134.500000</td>\n",
       "      <td>17.516667</td>\n",
       "      <td>125.500000</td>\n",
       "      <td>22.333333</td>\n",
       "      <td>214.833333</td>\n",
       "      <td>40.733333</td>\n",
       "      <td>186.000000</td>\n",
       "      <td>18.450000</td>\n",
       "      <td>328.166667</td>\n",
       "      <td>50.050000</td>\n",
       "      <td>340.333333</td>\n",
       "      <td>49.950000</td>\n",
       "      <td>76.500000</td>\n",
       "      <td>85.333333</td>\n",
       "      <td>33.166667</td>\n",
       "      <td>525.368056</td>\n",
       "      <td>38.500000</td>\n",
       "      <td>239.166667</td>\n",
       "      <td>8.233333</td>\n",
       "      <td>7.800000</td>\n",
       "      <td>7.683333</td>\n",
       "      <td>8.016667</td>\n",
       "      <td>7.066667</td>\n",
       "      <td>6.233333</td>\n",
       "      <td>6.700000</td>\n",
       "      <td>7.500000</td>\n",
       "      <td>6.768611</td>\n",
       "      <td>6.165787</td>\n",
       "      <td>6.736713</td>\n",
       "      <td>7.446898</td>\n",
       "      <td>7.433333</td>\n",
       "      <td>6.816667</td>\n",
       "      <td>7.116667</td>\n",
       "      <td>7.683333</td>\n",
       "      <td>12.0</td>\n",
       "      <td>12.0</td>\n",
       "      <td>10003.166667</td>\n",
       "      <td>659.500000</td>\n",
       "      <td>1.333333</td>\n",
       "      <td>0.0</td>\n",
       "      <td>0.0</td>\n",
       "      <td>0.0</td>\n",
       "      <td>40.719022</td>\n",
       "      <td>-73.982377</td>\n",
       "    </tr>\n",
       "    <tr>\n",
       "      <th>1</th>\n",
       "      <td>02</td>\n",
       "      <td>426.619092</td>\n",
       "      <td>444.186256</td>\n",
       "      <td>424.832836</td>\n",
       "      <td>1295.638184</td>\n",
       "      <td>128.908454</td>\n",
       "      <td>201.516827</td>\n",
       "      <td>157.495833</td>\n",
       "      <td>158.647849</td>\n",
       "      <td>2.0</td>\n",
       "      <td>149.818949</td>\n",
       "      <td>5.686360</td>\n",
       "      <td>25.038118</td>\n",
       "      <td>20.662667</td>\n",
       "      <td>28.593861</td>\n",
       "      <td>0.0</td>\n",
       "      <td>20112012.0</td>\n",
       "      <td>0.0</td>\n",
       "      <td>63.164583</td>\n",
       "      <td>605.604167</td>\n",
       "      <td>51.625000</td>\n",
       "      <td>13.006250</td>\n",
       "      <td>70.770833</td>\n",
       "      <td>13.212500</td>\n",
       "      <td>118.395833</td>\n",
       "      <td>14.479167</td>\n",
       "      <td>141.145833</td>\n",
       "      <td>24.733333</td>\n",
       "      <td>271.458333</td>\n",
       "      <td>49.554167</td>\n",
       "      <td>68.541667</td>\n",
       "      <td>10.056250</td>\n",
       "      <td>266.500000</td>\n",
       "      <td>44.718750</td>\n",
       "      <td>339.104167</td>\n",
       "      <td>55.281250</td>\n",
       "      <td>83.312500</td>\n",
       "      <td>86.416667</td>\n",
       "      <td>38.333333</td>\n",
       "      <td>495.171007</td>\n",
       "      <td>31.687500</td>\n",
       "      <td>190.000000</td>\n",
       "      <td>8.254167</td>\n",
       "      <td>7.495833</td>\n",
       "      <td>7.379167</td>\n",
       "      <td>7.704167</td>\n",
       "      <td>7.404167</td>\n",
       "      <td>6.520833</td>\n",
       "      <td>7.120833</td>\n",
       "      <td>7.564583</td>\n",
       "      <td>6.910660</td>\n",
       "      <td>6.204057</td>\n",
       "      <td>6.650422</td>\n",
       "      <td>7.385029</td>\n",
       "      <td>7.520833</td>\n",
       "      <td>6.720833</td>\n",
       "      <td>7.037500</td>\n",
       "      <td>7.541667</td>\n",
       "      <td>12.0</td>\n",
       "      <td>12.0</td>\n",
       "      <td>10023.770833</td>\n",
       "      <td>621.395833</td>\n",
       "      <td>1.416667</td>\n",
       "      <td>0.0</td>\n",
       "      <td>0.0</td>\n",
       "      <td>0.0</td>\n",
       "      <td>40.739699</td>\n",
       "      <td>-73.991386</td>\n",
       "    </tr>\n",
       "    <tr>\n",
       "      <th>2</th>\n",
       "      <td>03</td>\n",
       "      <td>428.529851</td>\n",
       "      <td>437.997512</td>\n",
       "      <td>426.915672</td>\n",
       "      <td>1293.443035</td>\n",
       "      <td>156.183494</td>\n",
       "      <td>244.522436</td>\n",
       "      <td>193.087500</td>\n",
       "      <td>183.384409</td>\n",
       "      <td>3.0</td>\n",
       "      <td>156.005994</td>\n",
       "      <td>5.839200</td>\n",
       "      <td>23.716311</td>\n",
       "      <td>19.737593</td>\n",
       "      <td>27.122831</td>\n",
       "      <td>0.0</td>\n",
       "      <td>20112012.0</td>\n",
       "      <td>0.0</td>\n",
       "      <td>58.050000</td>\n",
       "      <td>661.416667</td>\n",
       "      <td>36.916667</td>\n",
       "      <td>9.025000</td>\n",
       "      <td>63.583333</td>\n",
       "      <td>14.500000</td>\n",
       "      <td>68.000000</td>\n",
       "      <td>6.408333</td>\n",
       "      <td>181.833333</td>\n",
       "      <td>34.000000</td>\n",
       "      <td>228.250000</td>\n",
       "      <td>44.533333</td>\n",
       "      <td>172.000000</td>\n",
       "      <td>13.725000</td>\n",
       "      <td>272.166667</td>\n",
       "      <td>47.950000</td>\n",
       "      <td>389.250000</td>\n",
       "      <td>52.050000</td>\n",
       "      <td>83.166667</td>\n",
       "      <td>80.833333</td>\n",
       "      <td>36.166667</td>\n",
       "      <td>519.250000</td>\n",
       "      <td>28.166667</td>\n",
       "      <td>206.416667</td>\n",
       "      <td>8.316667</td>\n",
       "      <td>7.541667</td>\n",
       "      <td>7.508333</td>\n",
       "      <td>7.758333</td>\n",
       "      <td>6.675000</td>\n",
       "      <td>5.991667</td>\n",
       "      <td>6.533333</td>\n",
       "      <td>6.991667</td>\n",
       "      <td>6.716667</td>\n",
       "      <td>6.258333</td>\n",
       "      <td>6.633333</td>\n",
       "      <td>7.375000</td>\n",
       "      <td>7.233333</td>\n",
       "      <td>6.616667</td>\n",
       "      <td>6.891667</td>\n",
       "      <td>7.391667</td>\n",
       "      <td>12.0</td>\n",
       "      <td>12.0</td>\n",
       "      <td>10023.750000</td>\n",
       "      <td>717.916667</td>\n",
       "      <td>2.000000</td>\n",
       "      <td>0.0</td>\n",
       "      <td>0.0</td>\n",
       "      <td>0.0</td>\n",
       "      <td>40.781574</td>\n",
       "      <td>-73.977370</td>\n",
       "    </tr>\n",
       "    <tr>\n",
       "      <th>3</th>\n",
       "      <td>04</td>\n",
       "      <td>402.142857</td>\n",
       "      <td>416.285714</td>\n",
       "      <td>405.714286</td>\n",
       "      <td>1224.142857</td>\n",
       "      <td>129.016484</td>\n",
       "      <td>183.879121</td>\n",
       "      <td>151.035714</td>\n",
       "      <td>113.857143</td>\n",
       "      <td>4.0</td>\n",
       "      <td>132.362265</td>\n",
       "      <td>5.192610</td>\n",
       "      <td>24.101048</td>\n",
       "      <td>19.740816</td>\n",
       "      <td>27.460291</td>\n",
       "      <td>0.0</td>\n",
       "      <td>20112012.0</td>\n",
       "      <td>0.0</td>\n",
       "      <td>71.000000</td>\n",
       "      <td>569.285714</td>\n",
       "      <td>21.571429</td>\n",
       "      <td>4.557143</td>\n",
       "      <td>58.571429</td>\n",
       "      <td>13.214286</td>\n",
       "      <td>61.142857</td>\n",
       "      <td>6.128571</td>\n",
       "      <td>151.714286</td>\n",
       "      <td>30.028571</td>\n",
       "      <td>341.571429</td>\n",
       "      <td>61.400000</td>\n",
       "      <td>9.285714</td>\n",
       "      <td>1.314286</td>\n",
       "      <td>193.285714</td>\n",
       "      <td>30.514286</td>\n",
       "      <td>376.000000</td>\n",
       "      <td>69.485714</td>\n",
       "      <td>87.571429</td>\n",
       "      <td>92.714286</td>\n",
       "      <td>41.285714</td>\n",
       "      <td>504.857143</td>\n",
       "      <td>32.428571</td>\n",
       "      <td>193.142857</td>\n",
       "      <td>8.385714</td>\n",
       "      <td>7.657143</td>\n",
       "      <td>7.500000</td>\n",
       "      <td>7.928571</td>\n",
       "      <td>7.871429</td>\n",
       "      <td>7.042857</td>\n",
       "      <td>7.428571</td>\n",
       "      <td>7.885714</td>\n",
       "      <td>6.885714</td>\n",
       "      <td>6.114286</td>\n",
       "      <td>6.685714</td>\n",
       "      <td>7.571429</td>\n",
       "      <td>7.714286</td>\n",
       "      <td>6.942857</td>\n",
       "      <td>7.185714</td>\n",
       "      <td>7.785714</td>\n",
       "      <td>12.0</td>\n",
       "      <td>12.0</td>\n",
       "      <td>10029.857143</td>\n",
       "      <td>580.857143</td>\n",
       "      <td>1.142857</td>\n",
       "      <td>0.0</td>\n",
       "      <td>0.0</td>\n",
       "      <td>0.0</td>\n",
       "      <td>40.793449</td>\n",
       "      <td>-73.943215</td>\n",
       "    </tr>\n",
       "    <tr>\n",
       "      <th>4</th>\n",
       "      <td>05</td>\n",
       "      <td>427.159915</td>\n",
       "      <td>438.236674</td>\n",
       "      <td>419.666098</td>\n",
       "      <td>1285.062687</td>\n",
       "      <td>85.722527</td>\n",
       "      <td>115.725275</td>\n",
       "      <td>142.464286</td>\n",
       "      <td>143.677419</td>\n",
       "      <td>5.0</td>\n",
       "      <td>120.623901</td>\n",
       "      <td>4.845101</td>\n",
       "      <td>24.290247</td>\n",
       "      <td>20.447527</td>\n",
       "      <td>27.746703</td>\n",
       "      <td>0.0</td>\n",
       "      <td>20112012.0</td>\n",
       "      <td>0.0</td>\n",
       "      <td>58.671429</td>\n",
       "      <td>605.857143</td>\n",
       "      <td>21.571429</td>\n",
       "      <td>4.157143</td>\n",
       "      <td>59.714286</td>\n",
       "      <td>10.428571</td>\n",
       "      <td>32.714286</td>\n",
       "      <td>7.300000</td>\n",
       "      <td>342.571429</td>\n",
       "      <td>49.000000</td>\n",
       "      <td>195.571429</td>\n",
       "      <td>36.214286</td>\n",
       "      <td>31.285714</td>\n",
       "      <td>6.714286</td>\n",
       "      <td>300.000000</td>\n",
       "      <td>48.471429</td>\n",
       "      <td>305.857143</td>\n",
       "      <td>51.528571</td>\n",
       "      <td>82.857143</td>\n",
       "      <td>79.285714</td>\n",
       "      <td>40.428571</td>\n",
       "      <td>442.428571</td>\n",
       "      <td>27.714286</td>\n",
       "      <td>184.857143</td>\n",
       "      <td>8.085714</td>\n",
       "      <td>7.342857</td>\n",
       "      <td>7.357143</td>\n",
       "      <td>7.685714</td>\n",
       "      <td>6.857143</td>\n",
       "      <td>5.885714</td>\n",
       "      <td>6.242857</td>\n",
       "      <td>6.957143</td>\n",
       "      <td>6.314286</td>\n",
       "      <td>6.000000</td>\n",
       "      <td>6.428571</td>\n",
       "      <td>7.285714</td>\n",
       "      <td>7.085714</td>\n",
       "      <td>6.414286</td>\n",
       "      <td>6.671429</td>\n",
       "      <td>7.314286</td>\n",
       "      <td>12.0</td>\n",
       "      <td>12.0</td>\n",
       "      <td>10030.142857</td>\n",
       "      <td>609.857143</td>\n",
       "      <td>1.142857</td>\n",
       "      <td>0.0</td>\n",
       "      <td>0.0</td>\n",
       "      <td>0.0</td>\n",
       "      <td>40.817077</td>\n",
       "      <td>-73.949251</td>\n",
       "    </tr>\n",
       "  </tbody>\n",
       "</table>\n",
       "</div>"
      ],
      "text/plain": [
       "  school_dist  SAT Critical Reading Avg. Score  SAT Math Avg. Score  SAT Writing Avg. Score    sat_score  AP Test Takers   Total Exams Taken  Number of Exams with scores 3 4 or 5  Total Cohort  CSD  NUMBER OF STUDENTS / SEATS FILLED  NUMBER OF SECTIONS  AVERAGE CLASS SIZE  SIZE OF SMALLEST CLASS  SIZE OF LARGEST CLASS  SCHOOLWIDE PUPIL-TEACHER RATIO  schoolyear  fl_percent  frl_percent  total_enrollment    ell_num  ell_percent   sped_num  sped_percent   asian_num  asian_per   black_num  black_per  hispanic_num  hispanic_per   white_num  white_per    male_num   male_per  female_num  female_per       rr_s       rr_t       rr_p         N_s        N_t         N_p  saf_p_11  com_p_11  eng_p_11  aca_p_11  saf_t_11  com_t_11  eng_t_11  aca_t_11  saf_s_11  com_s_11  eng_s_11  aca_s_11  saf_tot_11  com_tot_11  eng_tot_11  aca_tot_11  grade_span_max  expgrade_span_max           zip  total_students  number_programs  priority08  priority09  priority10        lat        lon\n",
       "0          01                       441.833333           473.333333              439.333333  1354.500000       116.681090         173.019231                            135.800000     93.500000  1.0                         115.244241            5.148538           22.675415               18.798392              26.553044                             0.0  20112012.0         0.0    58.983333        668.500000  42.166667    10.000000  82.000000     17.083333  134.500000  17.516667  125.500000  22.333333    214.833333     40.733333  186.000000  18.450000  328.166667  50.050000  340.333333   49.950000  76.500000  85.333333  33.166667  525.368056  38.500000  239.166667  8.233333  7.800000  7.683333  8.016667  7.066667  6.233333  6.700000  7.500000  6.768611  6.165787  6.736713  7.446898    7.433333    6.816667    7.116667    7.683333            12.0               12.0  10003.166667      659.500000         1.333333         0.0         0.0         0.0  40.719022 -73.982377\n",
       "1          02                       426.619092           444.186256              424.832836  1295.638184       128.908454         201.516827                            157.495833    158.647849  2.0                         149.818949            5.686360           25.038118               20.662667              28.593861                             0.0  20112012.0         0.0    63.164583        605.604167  51.625000    13.006250  70.770833     13.212500  118.395833  14.479167  141.145833  24.733333    271.458333     49.554167   68.541667  10.056250  266.500000  44.718750  339.104167   55.281250  83.312500  86.416667  38.333333  495.171007  31.687500  190.000000  8.254167  7.495833  7.379167  7.704167  7.404167  6.520833  7.120833  7.564583  6.910660  6.204057  6.650422  7.385029    7.520833    6.720833    7.037500    7.541667            12.0               12.0  10023.770833      621.395833         1.416667         0.0         0.0         0.0  40.739699 -73.991386\n",
       "2          03                       428.529851           437.997512              426.915672  1293.443035       156.183494         244.522436                            193.087500    183.384409  3.0                         156.005994            5.839200           23.716311               19.737593              27.122831                             0.0  20112012.0         0.0    58.050000        661.416667  36.916667     9.025000  63.583333     14.500000   68.000000   6.408333  181.833333  34.000000    228.250000     44.533333  172.000000  13.725000  272.166667  47.950000  389.250000   52.050000  83.166667  80.833333  36.166667  519.250000  28.166667  206.416667  8.316667  7.541667  7.508333  7.758333  6.675000  5.991667  6.533333  6.991667  6.716667  6.258333  6.633333  7.375000    7.233333    6.616667    6.891667    7.391667            12.0               12.0  10023.750000      717.916667         2.000000         0.0         0.0         0.0  40.781574 -73.977370\n",
       "3          04                       402.142857           416.285714              405.714286  1224.142857       129.016484         183.879121                            151.035714    113.857143  4.0                         132.362265            5.192610           24.101048               19.740816              27.460291                             0.0  20112012.0         0.0    71.000000        569.285714  21.571429     4.557143  58.571429     13.214286   61.142857   6.128571  151.714286  30.028571    341.571429     61.400000    9.285714   1.314286  193.285714  30.514286  376.000000   69.485714  87.571429  92.714286  41.285714  504.857143  32.428571  193.142857  8.385714  7.657143  7.500000  7.928571  7.871429  7.042857  7.428571  7.885714  6.885714  6.114286  6.685714  7.571429    7.714286    6.942857    7.185714    7.785714            12.0               12.0  10029.857143      580.857143         1.142857         0.0         0.0         0.0  40.793449 -73.943215\n",
       "4          05                       427.159915           438.236674              419.666098  1285.062687        85.722527         115.725275                            142.464286    143.677419  5.0                         120.623901            4.845101           24.290247               20.447527              27.746703                             0.0  20112012.0         0.0    58.671429        605.857143  21.571429     4.157143  59.714286     10.428571   32.714286   7.300000  342.571429  49.000000    195.571429     36.214286   31.285714   6.714286  300.000000  48.471429  305.857143   51.528571  82.857143  79.285714  40.428571  442.428571  27.714286  184.857143  8.085714  7.342857  7.357143  7.685714  6.857143  5.885714  6.242857  6.957143  6.314286  6.000000  6.428571  7.285714    7.085714    6.414286    6.671429    7.314286            12.0               12.0  10030.142857      609.857143         1.142857         0.0         0.0         0.0  40.817077 -73.949251"
      ]
     },
     "execution_count": 17,
     "metadata": {},
     "output_type": "execute_result"
    }
   ],
   "source": [
    "districts=combined.groupby('school_dist').agg(numpy.mean)\n",
    "districts.reset_index(inplace=True)\n",
    "districts.head()"
   ]
  },
  {
   "cell_type": "markdown",
   "metadata": {},
   "source": [
    "Let's compute average safety score for each district and show their locations and safety score on a map and plot. "
   ]
  },
  {
   "cell_type": "code",
   "execution_count": 76,
   "metadata": {
    "scrolled": false
   },
   "outputs": [
    {
     "data": {
      "text/plain": [
       "<matplotlib.collections.PathCollection at 0x7f909a6d8240>"
      ]
     },
     "execution_count": 76,
     "metadata": {},
     "output_type": "execute_result"
    },
    {
     "data": {
      "image/png": "[encoded data removed]",
      "text/plain": [
       "<Figure size 432x288 with 1 Axes>"
      ]
     },
     "metadata": {},
     "output_type": "display_data"
    }
   ],
   "source": [
    "import mpl_toolkits\n",
    "from mpl_toolkits.basemap import Basemap\n",
    "m = Basemap(\n",
    "    projection='merc', \n",
    "    llcrnrlat=40.496044, \n",
    "    urcrnrlat=40.915256, \n",
    "    llcrnrlon=-74.255735, \n",
    "    urcrnrlon=-73.700272,\n",
    "    resolution='h'\n",
    ")\n",
    "\n",
    "m.drawmapboundary(fill_color='#FFFFFF')\n",
    "m.drawcoastlines(color='#6D5F47', linewidth=.4)\n",
    "m.drawrivers(color='#6D5F47', linewidth=.4)\n",
    "\n",
    "longitudes = districts['lon'].tolist()\n",
    "latitudes = districts['lat'].tolist()\n",
    "m.scatter(x=longitudes, y=latitudes, s=20, zorder=2, latlon=True, c=districts['saf_s_11'], cmap='Blues')"
   ]
  },
  {
   "cell_type": "code",
   "execution_count": 19,
   "metadata": {
    "scrolled": false
   },
   "outputs": [
    {
     "data": {
      "text/plain": [
       "<matplotlib.axes._subplots.AxesSubplot at 0x7f90a45003c8>"
      ]
     },
     "execution_count": 19,
     "metadata": {},
     "output_type": "execute_result"
    },
    {
     "data": {
      "image/png": "[encoded data removed]",
      "text/plain": [
       "<Figure size 432x360 with 1 Axes>"
      ]
     },
     "metadata": {
      "needs_background": "light"
     },
     "output_type": "display_data"
    }
   ],
   "source": [
    "boroughs = combined.groupby('boro').agg(numpy.mean)\n",
    "boroughs.head()\n",
    "boroughs.plot(y='saf_s_11', kind='bar', figsize=(6, 5), title='Safety of New York boroughs.', ylim=(6, 7))"
   ]
  },
  {
   "cell_type": "markdown",
   "metadata": {},
   "source": [
    "According to map and average safety rating Brooklyn has the low safety rating, whereas Upper Manhattan and parts of Queens and Bronx have high safety rating."
   ]
  },
  {
   "cell_type": "markdown",
   "metadata": {},
   "source": [
    "# Racial differences in SAT scores"
   ]
  },
  {
   "cell_type": "markdown",
   "metadata": {},
   "source": [
    "There are a few columns that indicate the percentage of each race at a given school:\n",
    "\n",
    "* white_per\n",
    "* asian_per\n",
    "* black_per\n",
    "* hispanic_per\n",
    "\n",
    "We investigate difference in SAT score for all races in dataset. Let's make a plot of the correlations between the race columns and *sat_score*."
   ]
  },
  {
   "cell_type": "code",
   "execution_count": 20,
   "metadata": {
    "scrolled": false
   },
   "outputs": [
    {
     "data": {
      "text/plain": [
       "<matplotlib.axes._subplots.AxesSubplot at 0x7f909af845c0>"
      ]
     },
     "execution_count": 20,
     "metadata": {},
     "output_type": "execute_result"
    },
    {
     "data": {
      "image/png": "[encoded data removed]",
      "text/plain": [
       "<Figure size 432x360 with 1 Axes>"
      ]
     },
     "metadata": {
      "needs_background": "light"
     },
     "output_type": "display_data"
    }
   ],
   "source": [
    "races = ['white_per', 'asian_per', 'black_per', 'hispanic_per']\n",
    "races_correlations = correlations.loc[races]\n",
    "\n",
    "races_correlations.plot(x=races_correlations.values, y=races_correlations.index, kind='bar', figsize=(6, 5), title='Correlation between SAT score and race')"
   ]
  },
  {
   "cell_type": "markdown",
   "metadata": {},
   "source": [
    "As we can see, there is a strong positive correlation between SAT score and percent of white (white_per) and asian (asian_per) and strong negative correlation between SAT score and percent of black (black_per) and hispanic (hispanic_per). This tells us about unfairness of that test.\n",
    "\n",
    "Then we explore relation between schools with low SAT score and percent of hispanic students."
   ]
  },
  {
   "cell_type": "code",
   "execution_count": 24,
   "metadata": {
    "scrolled": false
   },
   "outputs": [
    {
     "data": {
      "text/plain": [
       "<matplotlib.axes._subplots.AxesSubplot at 0x7f909ae87f60>"
      ]
     },
     "execution_count": 24,
     "metadata": {},
     "output_type": "execute_result"
    },
    {
     "data": {
      "image/png": "[encoded data removed]",
      "text/plain": [
       "<Figure size 504x360 with 1 Axes>"
      ]
     },
     "metadata": {
      "needs_background": "light"
     },
     "output_type": "display_data"
    }
   ],
   "source": [
    "combined.plot(x='hispanic_per', y='sat_score', kind='scatter', figsize=(7, 5), title='Relation between SAT score and percent of hispanic studens')"
   ]
  },
  {
   "cell_type": "markdown",
   "metadata": {},
   "source": [
    "We see a strong relationship between hispanic_per and SAT score. \n",
    "\n",
    "Let's find out which schools have high percent of hispanic students and schools which have low percent of hispanic studens and high SAT score."
   ]
  },
  {
   "cell_type": "code",
   "execution_count": 35,
   "metadata": {},
   "outputs": [
    {
     "data": {
      "text/html": [
       "<div>\n",
       "<style scoped>\n",
       "    .dataframe tbody tr th:only-of-type {\n",
       "        vertical-align: middle;\n",
       "    }\n",
       "\n",
       "    .dataframe tbody tr th {\n",
       "        vertical-align: top;\n",
       "    }\n",
       "\n",
       "    .dataframe thead th {\n",
       "        text-align: right;\n",
       "    }\n",
       "</style>\n",
       "<table border=\"1\" class=\"dataframe\">\n",
       "  <thead>\n",
       "    <tr style=\"text-align: right;\">\n",
       "      <th></th>\n",
       "      <th>SCHOOL NAME</th>\n",
       "      <th>sat_score</th>\n",
       "      <th>ell_percent</th>\n",
       "    </tr>\n",
       "  </thead>\n",
       "  <tbody>\n",
       "    <tr>\n",
       "      <th>44</th>\n",
       "      <td>MANHATTAN BRIDGES HIGH SCHOOL</td>\n",
       "      <td>1058.0</td>\n",
       "      <td>72.6</td>\n",
       "    </tr>\n",
       "    <tr>\n",
       "      <th>82</th>\n",
       "      <td>WASHINGTON HEIGHTS EXPEDITIONARY LEARNING SCHOOL</td>\n",
       "      <td>1174.0</td>\n",
       "      <td>19.6</td>\n",
       "    </tr>\n",
       "    <tr>\n",
       "      <th>89</th>\n",
       "      <td>GREGORIO LUPERON HIGH SCHOOL FOR SCIENCE AND M...</td>\n",
       "      <td>1014.0</td>\n",
       "      <td>89.6</td>\n",
       "    </tr>\n",
       "    <tr>\n",
       "      <th>125</th>\n",
       "      <td>ACADEMY FOR LANGUAGE AND TECHNOLOGY</td>\n",
       "      <td>951.0</td>\n",
       "      <td>86.6</td>\n",
       "    </tr>\n",
       "    <tr>\n",
       "      <th>141</th>\n",
       "      <td>INTERNATIONAL SCHOOL FOR LIBERAL ARTS</td>\n",
       "      <td>934.0</td>\n",
       "      <td>79.9</td>\n",
       "    </tr>\n",
       "    <tr>\n",
       "      <th>176</th>\n",
       "      <td>PAN AMERICAN INTERNATIONAL HIGH SCHOOL AT MONROE</td>\n",
       "      <td>970.0</td>\n",
       "      <td>92.9</td>\n",
       "    </tr>\n",
       "    <tr>\n",
       "      <th>253</th>\n",
       "      <td>MULTICULTURAL HIGH SCHOOL</td>\n",
       "      <td>887.0</td>\n",
       "      <td>94.6</td>\n",
       "    </tr>\n",
       "    <tr>\n",
       "      <th>286</th>\n",
       "      <td>PAN AMERICAN INTERNATIONAL HIGH SCHOOL</td>\n",
       "      <td>951.0</td>\n",
       "      <td>91.3</td>\n",
       "    </tr>\n",
       "  </tbody>\n",
       "</table>\n",
       "</div>"
      ],
      "text/plain": [
       "                                           SCHOOL NAME  sat_score  ell_percent\n",
       "44                       MANHATTAN BRIDGES HIGH SCHOOL     1058.0         72.6\n",
       "82    WASHINGTON HEIGHTS EXPEDITIONARY LEARNING SCHOOL     1174.0         19.6\n",
       "89   GREGORIO LUPERON HIGH SCHOOL FOR SCIENCE AND M...     1014.0         89.6\n",
       "125                ACADEMY FOR LANGUAGE AND TECHNOLOGY      951.0         86.6\n",
       "141              INTERNATIONAL SCHOOL FOR LIBERAL ARTS      934.0         79.9\n",
       "176   PAN AMERICAN INTERNATIONAL HIGH SCHOOL AT MONROE      970.0         92.9\n",
       "253                          MULTICULTURAL HIGH SCHOOL      887.0         94.6\n",
       "286             PAN AMERICAN INTERNATIONAL HIGH SCHOOL      951.0         91.3"
      ]
     },
     "execution_count": 35,
     "metadata": {},
     "output_type": "execute_result"
    }
   ],
   "source": [
    "combined_high_hispanic_per = combined[combined['hispanic_per'] >= 95]\n",
    "combined_high_hispanic_per[['SCHOOL NAME', 'sat_score', 'ell_percent']]"
   ]
  },
  {
   "cell_type": "markdown",
   "metadata": {},
   "source": [
    "We search information about these schools in the internet and find out that majority of them dedicated for immigrant Latino students with poor knowledge of English. Percent of English learners (ell_percent) in table above confirms that. For example we provide the overview of one of that schools (International school for liberal arts):\n",
    "\n",
    "\"We nurture our students to become fully functional in both English and their home language, Spanish. They will graduate with the tools necessary to compete in the 21st century...\"\n",
    "\n",
    "That's why SAT results of students of that schools are relatively low - many of them don't even know English well enough."
   ]
  },
  {
   "cell_type": "code",
   "execution_count": 43,
   "metadata": {
    "scrolled": true
   },
   "outputs": [
    {
     "data": {
      "text/html": [
       "<div>\n",
       "<style scoped>\n",
       "    .dataframe tbody tr th:only-of-type {\n",
       "        vertical-align: middle;\n",
       "    }\n",
       "\n",
       "    .dataframe tbody tr th {\n",
       "        vertical-align: top;\n",
       "    }\n",
       "\n",
       "    .dataframe thead th {\n",
       "        text-align: right;\n",
       "    }\n",
       "</style>\n",
       "<table border=\"1\" class=\"dataframe\">\n",
       "  <thead>\n",
       "    <tr style=\"text-align: right;\">\n",
       "      <th></th>\n",
       "      <th>SCHOOL NAME</th>\n",
       "      <th>sat_score</th>\n",
       "      <th>ell_percent</th>\n",
       "      <th>hispanic_per</th>\n",
       "      <th>white_per</th>\n",
       "      <th>asian_per</th>\n",
       "      <th>black_per</th>\n",
       "    </tr>\n",
       "  </thead>\n",
       "  <tbody>\n",
       "    <tr>\n",
       "      <th>37</th>\n",
       "      <td>STUYVESANT HIGH SCHOOL</td>\n",
       "      <td>2096.0</td>\n",
       "      <td>0.0</td>\n",
       "      <td>2.4</td>\n",
       "      <td>23.7</td>\n",
       "      <td>72.1</td>\n",
       "      <td>1.2</td>\n",
       "    </tr>\n",
       "    <tr>\n",
       "      <th>151</th>\n",
       "      <td>BRONX HIGH SCHOOL OF SCIENCE</td>\n",
       "      <td>1969.0</td>\n",
       "      <td>0.1</td>\n",
       "      <td>7.2</td>\n",
       "      <td>25.4</td>\n",
       "      <td>63.5</td>\n",
       "      <td>3.5</td>\n",
       "    </tr>\n",
       "    <tr>\n",
       "      <th>187</th>\n",
       "      <td>BROOKLYN TECHNICAL HIGH SCHOOL</td>\n",
       "      <td>1833.0</td>\n",
       "      <td>0.1</td>\n",
       "      <td>7.9</td>\n",
       "      <td>21.3</td>\n",
       "      <td>60.3</td>\n",
       "      <td>10.2</td>\n",
       "    </tr>\n",
       "    <tr>\n",
       "      <th>327</th>\n",
       "      <td>QUEENS HIGH SCHOOL FOR THE SCIENCES AT YORK CO...</td>\n",
       "      <td>1868.0</td>\n",
       "      <td>0.2</td>\n",
       "      <td>7.9</td>\n",
       "      <td>6.7</td>\n",
       "      <td>74.4</td>\n",
       "      <td>10.5</td>\n",
       "    </tr>\n",
       "    <tr>\n",
       "      <th>356</th>\n",
       "      <td>STATEN ISLAND TECHNICAL HIGH SCHOOL</td>\n",
       "      <td>1953.0</td>\n",
       "      <td>0.1</td>\n",
       "      <td>5.3</td>\n",
       "      <td>61.3</td>\n",
       "      <td>31.8</td>\n",
       "      <td>1.1</td>\n",
       "    </tr>\n",
       "  </tbody>\n",
       "</table>\n",
       "</div>"
      ],
      "text/plain": [
       "                                           SCHOOL NAME  sat_score  ell_percent  hispanic_per  white_per  asian_per  black_per\n",
       "37                              STUYVESANT HIGH SCHOOL     2096.0          0.0           2.4       23.7       72.1        1.2\n",
       "151                       BRONX HIGH SCHOOL OF SCIENCE     1969.0          0.1           7.2       25.4       63.5        3.5\n",
       "187                     BROOKLYN TECHNICAL HIGH SCHOOL     1833.0          0.1           7.9       21.3       60.3       10.2\n",
       "327  QUEENS HIGH SCHOOL FOR THE SCIENCES AT YORK CO...     1868.0          0.2           7.9        6.7       74.4       10.5\n",
       "356                STATEN ISLAND TECHNICAL HIGH SCHOOL     1953.0          0.1           5.3       61.3       31.8        1.1"
      ]
     },
     "execution_count": 43,
     "metadata": {},
     "output_type": "execute_result"
    }
   ],
   "source": [
    "combined_low_hispanic_per_high_sat = combined[(combined['hispanic_per'] <= 10) & (combined['sat_score'] > 1800)]\n",
    "combined_low_hispanic_per_high_sat[['SCHOOL NAME', 'sat_score', 'ell_percent', 'hispanic_per', 'white_per', 'asian_per', 'black_per']]"
   ]
  },
  {
   "cell_type": "markdown",
   "metadata": {},
   "source": [
    "We search information about these schools in the internet and find out that majority of them specialized in science and technology, provide high quality education, dedicated to preparing students for college and career and only admit students who pass an entrance exam.\n",
    "\n",
    "As a result students of that schools has a high SAT score."
   ]
  },
  {
   "cell_type": "markdown",
   "metadata": {},
   "source": [
    "# Gender differences in SAT scores"
   ]
  },
  {
   "cell_type": "code",
   "execution_count": 45,
   "metadata": {},
   "outputs": [
    {
     "data": {
      "text/plain": [
       "<matplotlib.axes._subplots.AxesSubplot at 0x7f909ab72160>"
      ]
     },
     "execution_count": 45,
     "metadata": {},
     "output_type": "execute_result"
    },
    {
     "data": {
      "image/png": "[encoded data removed]",
      "text/plain": [
       "<Figure size 432x360 with 1 Axes>"
      ]
     },
     "metadata": {
      "needs_background": "light"
     },
     "output_type": "display_data"
    }
   ],
   "source": [
    "gender = ['male_per', 'female_per']\n",
    "gender_correlations = correlations.loc[gender]\n",
    "\n",
    "gender_correlations.plot(x=gender_correlations.values, y=gender_correlations.index, kind='bar', figsize=(6, 5), title='Correlation between SAT score and gender')"
   ]
  },
  {
   "cell_type": "markdown",
   "metadata": {},
   "source": [
    "Female gender has a weak positive correlation with SAT score while male gender has weak negative correlation with SAT score. That tells us that female students have a tendency to learn a slightly better than male students."
   ]
  },
  {
   "cell_type": "code",
   "execution_count": 46,
   "metadata": {},
   "outputs": [
    {
     "data": {
      "text/plain": [
       "<matplotlib.axes._subplots.AxesSubplot at 0x7f909ad16ac8>"
      ]
     },
     "execution_count": 46,
     "metadata": {},
     "output_type": "execute_result"
    },
    {
     "data": {
      "image/png": "[encoded data removed]",
      "text/plain": [
       "<Figure size 504x360 with 1 Axes>"
      ]
     },
     "metadata": {
      "needs_background": "light"
     },
     "output_type": "display_data"
    }
   ],
   "source": [
    "combined.plot(x='female_per', y='sat_score', kind='scatter', figsize=(7, 5), title='Relation between SAT score and percent of female studens')"
   ]
  },
  {
   "cell_type": "markdown",
   "metadata": {},
   "source": [
    "According to plot we don't see any strong correlation between SAT score and female students percent."
   ]
  },
  {
   "cell_type": "code",
   "execution_count": 51,
   "metadata": {},
   "outputs": [
    {
     "data": {
      "text/html": [
       "<div>\n",
       "<style scoped>\n",
       "    .dataframe tbody tr th:only-of-type {\n",
       "        vertical-align: middle;\n",
       "    }\n",
       "\n",
       "    .dataframe tbody tr th {\n",
       "        vertical-align: top;\n",
       "    }\n",
       "\n",
       "    .dataframe thead th {\n",
       "        text-align: right;\n",
       "    }\n",
       "</style>\n",
       "<table border=\"1\" class=\"dataframe\">\n",
       "  <thead>\n",
       "    <tr style=\"text-align: right;\">\n",
       "      <th></th>\n",
       "      <th>SCHOOL NAME</th>\n",
       "      <th>sat_score</th>\n",
       "      <th>female_per</th>\n",
       "    </tr>\n",
       "  </thead>\n",
       "  <tbody>\n",
       "    <tr>\n",
       "      <th>5</th>\n",
       "      <td>BARD HIGH SCHOOL EARLY COLLEGE</td>\n",
       "      <td>1856.0</td>\n",
       "      <td>68.7</td>\n",
       "    </tr>\n",
       "    <tr>\n",
       "      <th>26</th>\n",
       "      <td>ELEANOR ROOSEVELT HIGH SCHOOL</td>\n",
       "      <td>1758.0</td>\n",
       "      <td>67.5</td>\n",
       "    </tr>\n",
       "    <tr>\n",
       "      <th>60</th>\n",
       "      <td>BEACON HIGH SCHOOL</td>\n",
       "      <td>1744.0</td>\n",
       "      <td>61.0</td>\n",
       "    </tr>\n",
       "    <tr>\n",
       "      <th>61</th>\n",
       "      <td>FIORELLO H. LAGUARDIA HIGH SCHOOL OF MUSIC &amp; A...</td>\n",
       "      <td>1707.0</td>\n",
       "      <td>73.6</td>\n",
       "    </tr>\n",
       "    <tr>\n",
       "      <th>302</th>\n",
       "      <td>TOWNSEND HARRIS HIGH SCHOOL</td>\n",
       "      <td>1910.0</td>\n",
       "      <td>71.1</td>\n",
       "    </tr>\n",
       "  </tbody>\n",
       "</table>\n",
       "</div>"
      ],
      "text/plain": [
       "                                           SCHOOL NAME  sat_score  female_per\n",
       "5                       BARD HIGH SCHOOL EARLY COLLEGE     1856.0        68.7\n",
       "26                       ELEANOR ROOSEVELT HIGH SCHOOL     1758.0        67.5\n",
       "60                                  BEACON HIGH SCHOOL     1744.0        61.0\n",
       "61   FIORELLO H. LAGUARDIA HIGH SCHOOL OF MUSIC & A...     1707.0        73.6\n",
       "302                        TOWNSEND HARRIS HIGH SCHOOL     1910.0        71.1"
      ]
     },
     "execution_count": 51,
     "metadata": {},
     "output_type": "execute_result"
    }
   ],
   "source": [
    "combined_high_female_per_high_sat = combined[(combined['female_per'] >= 60) & (combined['sat_score'] > 1700)]\n",
    "combined_high_female_per_high_sat[['SCHOOL NAME', 'sat_score', 'female_per']]"
   ]
  },
  {
   "cell_type": "markdown",
   "metadata": {},
   "source": [
    "Schools from table above are liberal arts schools with high academic standards."
   ]
  },
  {
   "cell_type": "markdown",
   "metadata": {},
   "source": [
    "# AP exams and SAT scores relation"
   ]
  },
  {
   "cell_type": "code",
   "execution_count": 56,
   "metadata": {},
   "outputs": [],
   "source": [
    "combined['ap_per'] = combined['AP Test Takers ']/combined['total_enrollment']"
   ]
  },
  {
   "cell_type": "code",
   "execution_count": 57,
   "metadata": {},
   "outputs": [
    {
     "data": {
      "text/plain": [
       "0    0.305756\n",
       "1    0.098985\n",
       "2    0.031773\n",
       "3    0.351577\n",
       "4    0.158091\n",
       "Name: ap_per, dtype: float64"
      ]
     },
     "execution_count": 57,
     "metadata": {},
     "output_type": "execute_result"
    }
   ],
   "source": [
    "combined['ap_per'].head()"
   ]
  },
  {
   "cell_type": "code",
   "execution_count": 59,
   "metadata": {},
   "outputs": [
    {
     "data": {
      "text/plain": [
       "<matplotlib.axes._subplots.AxesSubplot at 0x7f909aaa5390>"
      ]
     },
     "execution_count": 59,
     "metadata": {},
     "output_type": "execute_result"
    },
    {
     "data": {
      "image/png": "[encoded data removed]",
      "text/plain": [
       "<Figure size 504x360 with 1 Axes>"
      ]
     },
     "metadata": {
      "needs_background": "light"
     },
     "output_type": "display_data"
    }
   ],
   "source": [
    "combined.plot(x='ap_per', y='sat_score', kind='scatter', figsize=(7, 5), title='Relation between SAT score and percent of AP test takers')"
   ]
  },
  {
   "cell_type": "code",
   "execution_count": 68,
   "metadata": {
    "scrolled": true
   },
   "outputs": [],
   "source": [
    "combined_high_sat_score = combined[combined['sat_score'] > 1300]\n",
    "combined_low_sat_score = combined[combined['sat_score'] <= 1300]\n",
    "combined_high_sat_score_corr = combined_high_sat_score.corr()\n",
    "combined_low_sat_score_corr = combined_low_sat_score.corr()"
   ]
  },
  {
   "cell_type": "markdown",
   "metadata": {},
   "source": [
    "Correlation between AP test takers and SAT score for schools with high SAT score (> 1300)"
   ]
  },
  {
   "cell_type": "code",
   "execution_count": 69,
   "metadata": {
    "scrolled": true
   },
   "outputs": [
    {
     "data": {
      "text/plain": [
       "0.7244882289593124"
      ]
     },
     "execution_count": 69,
     "metadata": {},
     "output_type": "execute_result"
    }
   ],
   "source": [
    "combined_high_sat_score_corr.loc['sat_score', 'ap_per']"
   ]
  },
  {
   "cell_type": "markdown",
   "metadata": {},
   "source": [
    "Correlation between AP test takers and SAT score for schools with low SAT score (< 1300)"
   ]
  },
  {
   "cell_type": "code",
   "execution_count": 70,
   "metadata": {},
   "outputs": [
    {
     "data": {
      "text/plain": [
       "-0.04333512849570876"
      ]
     },
     "execution_count": 70,
     "metadata": {},
     "output_type": "execute_result"
    }
   ],
   "source": [
    "combined_low_sat_score_corr.loc['sat_score', 'ap_per']"
   ]
  },
  {
   "cell_type": "markdown",
   "metadata": {},
   "source": [
    "We see two different tendencies on plot and correlation compute results. One tendency works for schools with low SAT score (< 1300) and shows us that there are no correlation between percent of AP test takers and SAT score. \n",
    "Second tendency is opposite to first, it works for schools with high SAT score (> 1300) and demonstrate strong correlation between SAT score and number of AP takers.\n",
    "\n",
    "Second tendency could be explained by both high level of knowledge of students who enroll the schools with high average SAT score and high price of education in that schools. So students are interested and able to participate in AP tests."
   ]
  }
 ],
 "metadata": {
  "kernelspec": {
   "display_name": "Python 3",
   "language": "python",
   "name": "python3"
  },
  "language_info": {
   "codemirror_mode": {
    "name": "ipython",
    "version": 3
   },
   "file_extension": ".py",
   "mimetype": "text/x-python",
   "name": "python",
   "nbconvert_exporter": "python",
   "pygments_lexer": "ipython3",
   "version": "3.7.3"
  }
 },
 "nbformat": 4,
 "nbformat_minor": 2
}
